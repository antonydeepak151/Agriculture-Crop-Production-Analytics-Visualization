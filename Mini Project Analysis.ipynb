{
 "cells": [
  {
   "cell_type": "code",
   "execution_count": 1,
   "id": "815f36b3",
   "metadata": {},
   "outputs": [],
   "source": [
    "#importing library\n",
    "import pandas as pd"
   ]
  },
  {
   "cell_type": "code",
   "execution_count": 2,
   "id": "4985b664",
   "metadata": {
    "scrolled": true
   },
   "outputs": [
    {
     "data": {
      "text/html": [
       "<div>\n",
       "<style scoped>\n",
       "    .dataframe tbody tr th:only-of-type {\n",
       "        vertical-align: middle;\n",
       "    }\n",
       "\n",
       "    .dataframe tbody tr th {\n",
       "        vertical-align: top;\n",
       "    }\n",
       "\n",
       "    .dataframe thead th {\n",
       "        text-align: right;\n",
       "    }\n",
       "</style>\n",
       "<table border=\"1\" class=\"dataframe\">\n",
       "  <thead>\n",
       "    <tr style=\"text-align: right;\">\n",
       "      <th></th>\n",
       "      <th>State</th>\n",
       "      <th>District</th>\n",
       "      <th>Crop</th>\n",
       "      <th>Year</th>\n",
       "      <th>Season</th>\n",
       "      <th>Area</th>\n",
       "      <th>Area Units</th>\n",
       "      <th>Production</th>\n",
       "      <th>Production Units</th>\n",
       "      <th>Yield</th>\n",
       "    </tr>\n",
       "  </thead>\n",
       "  <tbody>\n",
       "    <tr>\n",
       "      <th>0</th>\n",
       "      <td>Andaman and Nicobar Islands</td>\n",
       "      <td>NICOBARS</td>\n",
       "      <td>Arecanut</td>\n",
       "      <td>2001-02</td>\n",
       "      <td>Kharif</td>\n",
       "      <td>1254.0</td>\n",
       "      <td>Hectare</td>\n",
       "      <td>2061.0</td>\n",
       "      <td>Tonnes</td>\n",
       "      <td>1.643541</td>\n",
       "    </tr>\n",
       "    <tr>\n",
       "      <th>1</th>\n",
       "      <td>Andaman and Nicobar Islands</td>\n",
       "      <td>NICOBARS</td>\n",
       "      <td>Arecanut</td>\n",
       "      <td>2002-03</td>\n",
       "      <td>Whole Year</td>\n",
       "      <td>1258.0</td>\n",
       "      <td>Hectare</td>\n",
       "      <td>2083.0</td>\n",
       "      <td>Tonnes</td>\n",
       "      <td>1.655803</td>\n",
       "    </tr>\n",
       "    <tr>\n",
       "      <th>2</th>\n",
       "      <td>Andaman and Nicobar Islands</td>\n",
       "      <td>NICOBARS</td>\n",
       "      <td>Arecanut</td>\n",
       "      <td>2003-04</td>\n",
       "      <td>Whole Year</td>\n",
       "      <td>1261.0</td>\n",
       "      <td>Hectare</td>\n",
       "      <td>1525.0</td>\n",
       "      <td>Tonnes</td>\n",
       "      <td>1.209358</td>\n",
       "    </tr>\n",
       "    <tr>\n",
       "      <th>3</th>\n",
       "      <td>Andaman and Nicobar Islands</td>\n",
       "      <td>NORTH AND MIDDLE ANDAMAN</td>\n",
       "      <td>Arecanut</td>\n",
       "      <td>2001-02</td>\n",
       "      <td>Kharif</td>\n",
       "      <td>3100.0</td>\n",
       "      <td>Hectare</td>\n",
       "      <td>5239.0</td>\n",
       "      <td>Tonnes</td>\n",
       "      <td>1.690000</td>\n",
       "    </tr>\n",
       "    <tr>\n",
       "      <th>4</th>\n",
       "      <td>Andaman and Nicobar Islands</td>\n",
       "      <td>SOUTH ANDAMANS</td>\n",
       "      <td>Arecanut</td>\n",
       "      <td>2002-03</td>\n",
       "      <td>Whole Year</td>\n",
       "      <td>3105.0</td>\n",
       "      <td>Hectare</td>\n",
       "      <td>5267.0</td>\n",
       "      <td>Tonnes</td>\n",
       "      <td>1.696296</td>\n",
       "    </tr>\n",
       "  </tbody>\n",
       "</table>\n",
       "</div>"
      ],
      "text/plain": [
       "                         State                  District      Crop     Year  \\\n",
       "0  Andaman and Nicobar Islands                  NICOBARS  Arecanut  2001-02   \n",
       "1  Andaman and Nicobar Islands                  NICOBARS  Arecanut  2002-03   \n",
       "2  Andaman and Nicobar Islands                  NICOBARS  Arecanut  2003-04   \n",
       "3  Andaman and Nicobar Islands  NORTH AND MIDDLE ANDAMAN  Arecanut  2001-02   \n",
       "4  Andaman and Nicobar Islands            SOUTH ANDAMANS  Arecanut  2002-03   \n",
       "\n",
       "       Season    Area Area Units  Production Production Units     Yield  \n",
       "0      Kharif  1254.0    Hectare      2061.0           Tonnes  1.643541  \n",
       "1  Whole Year  1258.0    Hectare      2083.0           Tonnes  1.655803  \n",
       "2  Whole Year  1261.0    Hectare      1525.0           Tonnes  1.209358  \n",
       "3      Kharif  3100.0    Hectare      5239.0           Tonnes  1.690000  \n",
       "4  Whole Year  3105.0    Hectare      5267.0           Tonnes  1.696296  "
      ]
     },
     "execution_count": 2,
     "metadata": {},
     "output_type": "execute_result"
    }
   ],
   "source": [
    "#load and reaad the dataset\n",
    "df=pd.read_csv(r\"C:\\Users\\ASUS\\Desktop\\mini project\\India Agriculture Crop Production.csv\")\n",
    "df.head(5)"
   ]
  },
  {
   "cell_type": "code",
   "execution_count": 3,
   "id": "223dca21",
   "metadata": {},
   "outputs": [
    {
     "data": {
      "text/plain": [
       "State                  0\n",
       "District               0\n",
       "Crop                  32\n",
       "Year                   0\n",
       "Season                 1\n",
       "Area                  33\n",
       "Area Units             0\n",
       "Production          4993\n",
       "Production Units       0\n",
       "Yield                 33\n",
       "dtype: int64"
      ]
     },
     "execution_count": 3,
     "metadata": {},
     "output_type": "execute_result"
    }
   ],
   "source": [
    "df.isnull().sum()"
   ]
  },
  {
   "cell_type": "code",
   "execution_count": 4,
   "id": "e47f94d9",
   "metadata": {},
   "outputs": [
    {
     "data": {
      "text/plain": [
       "Index(['State', 'District', 'Crop', 'Year', 'Season', 'Area', 'Area Units',\n",
       "       'Production', 'Production Units', 'Yield'],\n",
       "      dtype='object')"
      ]
     },
     "execution_count": 4,
     "metadata": {},
     "output_type": "execute_result"
    }
   ],
   "source": [
    "df.columns"
   ]
  },
  {
   "cell_type": "code",
   "execution_count": 5,
   "id": "43a99557",
   "metadata": {},
   "outputs": [
    {
     "data": {
      "text/html": [
       "<div>\n",
       "<style scoped>\n",
       "    .dataframe tbody tr th:only-of-type {\n",
       "        vertical-align: middle;\n",
       "    }\n",
       "\n",
       "    .dataframe tbody tr th {\n",
       "        vertical-align: top;\n",
       "    }\n",
       "\n",
       "    .dataframe thead th {\n",
       "        text-align: right;\n",
       "    }\n",
       "</style>\n",
       "<table border=\"1\" class=\"dataframe\">\n",
       "  <thead>\n",
       "    <tr style=\"text-align: right;\">\n",
       "      <th></th>\n",
       "      <th>Area</th>\n",
       "      <th>Production</th>\n",
       "      <th>Yield</th>\n",
       "    </tr>\n",
       "  </thead>\n",
       "  <tbody>\n",
       "    <tr>\n",
       "      <th>count</th>\n",
       "      <td>3.453740e+05</td>\n",
       "      <td>3.404140e+05</td>\n",
       "      <td>345374.000000</td>\n",
       "    </tr>\n",
       "    <tr>\n",
       "      <th>mean</th>\n",
       "      <td>1.167019e+04</td>\n",
       "      <td>9.583711e+05</td>\n",
       "      <td>79.407569</td>\n",
       "    </tr>\n",
       "    <tr>\n",
       "      <th>std</th>\n",
       "      <td>4.583843e+04</td>\n",
       "      <td>2.152986e+07</td>\n",
       "      <td>916.628744</td>\n",
       "    </tr>\n",
       "    <tr>\n",
       "      <th>min</th>\n",
       "      <td>4.000000e-03</td>\n",
       "      <td>0.000000e+00</td>\n",
       "      <td>0.000000</td>\n",
       "    </tr>\n",
       "    <tr>\n",
       "      <th>25%</th>\n",
       "      <td>7.400000e+01</td>\n",
       "      <td>8.700000e+01</td>\n",
       "      <td>0.546742</td>\n",
       "    </tr>\n",
       "    <tr>\n",
       "      <th>50%</th>\n",
       "      <td>5.320000e+02</td>\n",
       "      <td>7.170000e+02</td>\n",
       "      <td>1.000000</td>\n",
       "    </tr>\n",
       "    <tr>\n",
       "      <th>75%</th>\n",
       "      <td>4.110000e+03</td>\n",
       "      <td>7.176000e+03</td>\n",
       "      <td>2.467080</td>\n",
       "    </tr>\n",
       "    <tr>\n",
       "      <th>max</th>\n",
       "      <td>8.580100e+06</td>\n",
       "      <td>1.597800e+09</td>\n",
       "      <td>43958.333330</td>\n",
       "    </tr>\n",
       "  </tbody>\n",
       "</table>\n",
       "</div>"
      ],
      "text/plain": [
       "               Area    Production          Yield\n",
       "count  3.453740e+05  3.404140e+05  345374.000000\n",
       "mean   1.167019e+04  9.583711e+05      79.407569\n",
       "std    4.583843e+04  2.152986e+07     916.628744\n",
       "min    4.000000e-03  0.000000e+00       0.000000\n",
       "25%    7.400000e+01  8.700000e+01       0.546742\n",
       "50%    5.320000e+02  7.170000e+02       1.000000\n",
       "75%    4.110000e+03  7.176000e+03       2.467080\n",
       "max    8.580100e+06  1.597800e+09   43958.333330"
      ]
     },
     "execution_count": 5,
     "metadata": {},
     "output_type": "execute_result"
    }
   ],
   "source": [
    "df.describe()"
   ]
  },
  {
   "cell_type": "code",
   "execution_count": 6,
   "id": "c3d1f3b2",
   "metadata": {},
   "outputs": [
    {
     "name": "stdout",
     "output_type": "stream",
     "text": [
      "<class 'pandas.core.frame.DataFrame'>\n",
      "RangeIndex: 345407 entries, 0 to 345406\n",
      "Data columns (total 10 columns):\n",
      " #   Column            Non-Null Count   Dtype  \n",
      "---  ------            --------------   -----  \n",
      " 0   State             345407 non-null  object \n",
      " 1   District          345407 non-null  object \n",
      " 2   Crop              345375 non-null  object \n",
      " 3   Year              345407 non-null  object \n",
      " 4   Season            345406 non-null  object \n",
      " 5   Area              345374 non-null  float64\n",
      " 6   Area Units        345407 non-null  object \n",
      " 7   Production        340414 non-null  float64\n",
      " 8   Production Units  345407 non-null  object \n",
      " 9   Yield             345374 non-null  float64\n",
      "dtypes: float64(3), object(7)\n",
      "memory usage: 26.4+ MB\n"
     ]
    }
   ],
   "source": [
    "df.info()"
   ]
  },
  {
   "cell_type": "code",
   "execution_count": 7,
   "id": "91d1e16e",
   "metadata": {
    "scrolled": true
   },
   "outputs": [
    {
     "data": {
      "text/plain": [
       "36"
      ]
     },
     "execution_count": 7,
     "metadata": {},
     "output_type": "execute_result"
    }
   ],
   "source": [
    "#length of state column\n",
    "len(df['State'].unique())"
   ]
  },
  {
   "cell_type": "code",
   "execution_count": 8,
   "id": "65f0367e",
   "metadata": {},
   "outputs": [
    {
     "data": {
      "text/plain": [
       "array(['Andaman and Nicobar Islands', 'Andhra Pradesh',\n",
       "       'Arunachal Pradesh', 'Assam', 'Bihar', 'Chandigarh',\n",
       "       'Chhattisgarh', 'Dadra and Nagar Haveli', 'Daman and Diu', 'Delhi',\n",
       "       'Goa', 'Gujarat', 'Haryana', 'Himachal Pradesh',\n",
       "       'Jammu and Kashmir', 'Jharkhand', 'Karnataka', 'Kerala',\n",
       "       'Madhya Pradesh', 'Maharashtra', 'Manipur', 'Meghalaya', 'Mizoram',\n",
       "       'Nagaland', 'Odisha', 'Puducherry', 'Punjab', 'Rajasthan',\n",
       "       'Sikkim', 'Tamil Nadu', 'Tripura', 'Uttar Pradesh', 'Uttarakhand',\n",
       "       'West Bengal', 'Telangana', 'Laddakh'], dtype=object)"
      ]
     },
     "execution_count": 8,
     "metadata": {},
     "output_type": "execute_result"
    }
   ],
   "source": [
    "df['State'].unique()"
   ]
  },
  {
   "cell_type": "code",
   "execution_count": 9,
   "id": "0b51fcdf",
   "metadata": {},
   "outputs": [
    {
     "data": {
      "text/plain": [
       "729"
      ]
     },
     "execution_count": 9,
     "metadata": {},
     "output_type": "execute_result"
    }
   ],
   "source": [
    "#length of district\n",
    "len(df['District'].unique())"
   ]
  },
  {
   "cell_type": "code",
   "execution_count": 10,
   "id": "efc57e7f",
   "metadata": {},
   "outputs": [
    {
     "data": {
      "text/plain": [
       "57"
      ]
     },
     "execution_count": 10,
     "metadata": {},
     "output_type": "execute_result"
    }
   ],
   "source": [
    "#length of crop\n",
    "len(df['Crop'].unique())"
   ]
  },
  {
   "cell_type": "code",
   "execution_count": 11,
   "id": "e683243e",
   "metadata": {},
   "outputs": [
    {
     "data": {
      "text/plain": [
       "array(['Arecanut', 'Banana', 'Black pepper', 'Cashewnut', 'Coconut',\n",
       "       'Dry chillies', 'Ginger', 'Other Kharif pulses', 'other oilseeds',\n",
       "       'Rice', 'Sugarcane', 'Sweet potato', 'Arhar/Tur', 'Bajra',\n",
       "       'Castor seed', 'Coriander', 'Cotton(lint)', 'Gram', 'Groundnut',\n",
       "       'Horse-gram', 'Jowar', 'Linseed', 'Maize', 'Mesta',\n",
       "       'Moong(Green Gram)', 'Niger seed', 'Onion', 'Other Rabi pulses',\n",
       "       'Potato', 'Ragi', 'Rapeseed &Mustard', 'Safflower', 'Sesamum',\n",
       "       'Small millets', 'Soyabean', 'Sunflower', 'Tapioca', 'Tobacco',\n",
       "       'Turmeric', 'Urad', 'Wheat', 'Oilseeds total', 'Jute', 'Masoor',\n",
       "       'Peas & beans (Pulses)', 'Barley', 'Garlic', 'Khesari', 'Sannhamp',\n",
       "       'Guar seed', 'Moth', 'Cardamom', 'Other Cereals', 'Cowpea(Lobia)',\n",
       "       'Dry Ginger', 'Other Summer Pulses', nan], dtype=object)"
      ]
     },
     "execution_count": 11,
     "metadata": {},
     "output_type": "execute_result"
    }
   ],
   "source": [
    "df[\"Crop\"].unique()"
   ]
  },
  {
   "cell_type": "code",
   "execution_count": 15,
   "id": "e220b8f1",
   "metadata": {},
   "outputs": [
    {
     "data": {
      "text/plain": [
       "array(['Andaman and Nicobar Islands', 'Andhra Pradesh',\n",
       "       'Arunachal Pradesh', 'Assam', 'Bihar', 'Chandigarh',\n",
       "       'Chhattisgarh', 'Dadra and Nagar Haveli', 'Daman and Diu', 'Delhi',\n",
       "       'Goa', 'Gujarat', 'Haryana', 'Himachal Pradesh',\n",
       "       'Jammu and Kashmir', 'Jharkhand', 'Karnataka', 'Kerala',\n",
       "       'Madhya Pradesh', 'Maharashtra', 'Manipur', 'Meghalaya', 'Mizoram',\n",
       "       'Nagaland', 'Odisha', 'Puducherry', 'Punjab', 'Rajasthan',\n",
       "       'Sikkim', 'Tamil Nadu', 'Tripura', 'Uttar Pradesh', 'Uttarakhand',\n",
       "       'West Bengal', 'Telangana', 'Laddakh'], dtype=object)"
      ]
     },
     "execution_count": 15,
     "metadata": {},
     "output_type": "execute_result"
    }
   ],
   "source": [
    "df[\"State\"].unique()"
   ]
  },
  {
   "cell_type": "code",
   "execution_count": 17,
   "id": "b6de55f1",
   "metadata": {},
   "outputs": [
    {
     "data": {
      "text/plain": [
       "State                  0\n",
       "District               0\n",
       "Crop                  32\n",
       "Year                   0\n",
       "Season                 1\n",
       "Area                  33\n",
       "Area Units             0\n",
       "Production          4993\n",
       "Production Units       0\n",
       "Yield                 33\n",
       "dtype: int64"
      ]
     },
     "execution_count": 17,
     "metadata": {},
     "output_type": "execute_result"
    }
   ],
   "source": [
    "df.isnull().sum()"
   ]
  },
  {
   "cell_type": "code",
   "execution_count": 18,
   "id": "63fdfe66",
   "metadata": {},
   "outputs": [
    {
     "data": {
      "text/html": [
       "<div>\n",
       "<style scoped>\n",
       "    .dataframe tbody tr th:only-of-type {\n",
       "        vertical-align: middle;\n",
       "    }\n",
       "\n",
       "    .dataframe tbody tr th {\n",
       "        vertical-align: top;\n",
       "    }\n",
       "\n",
       "    .dataframe thead th {\n",
       "        text-align: right;\n",
       "    }\n",
       "</style>\n",
       "<table border=\"1\" class=\"dataframe\">\n",
       "  <thead>\n",
       "    <tr style=\"text-align: right;\">\n",
       "      <th></th>\n",
       "      <th>State</th>\n",
       "      <th>District</th>\n",
       "      <th>Crop</th>\n",
       "      <th>Year</th>\n",
       "      <th>Season</th>\n",
       "      <th>Area</th>\n",
       "      <th>Area Units</th>\n",
       "      <th>Production</th>\n",
       "      <th>Production Units</th>\n",
       "      <th>Yield</th>\n",
       "    </tr>\n",
       "  </thead>\n",
       "  <tbody>\n",
       "    <tr>\n",
       "      <th>0</th>\n",
       "      <td>Andaman and Nicobar Islands</td>\n",
       "      <td>NICOBARS</td>\n",
       "      <td>Arecanut</td>\n",
       "      <td>2001-02</td>\n",
       "      <td>Kharif</td>\n",
       "      <td>1254.0</td>\n",
       "      <td>Hectare</td>\n",
       "      <td>2061.0</td>\n",
       "      <td>Tonnes</td>\n",
       "      <td>1.643541</td>\n",
       "    </tr>\n",
       "    <tr>\n",
       "      <th>1</th>\n",
       "      <td>Andaman and Nicobar Islands</td>\n",
       "      <td>NICOBARS</td>\n",
       "      <td>Arecanut</td>\n",
       "      <td>2002-03</td>\n",
       "      <td>Whole Year</td>\n",
       "      <td>1258.0</td>\n",
       "      <td>Hectare</td>\n",
       "      <td>2083.0</td>\n",
       "      <td>Tonnes</td>\n",
       "      <td>1.655803</td>\n",
       "    </tr>\n",
       "    <tr>\n",
       "      <th>2</th>\n",
       "      <td>Andaman and Nicobar Islands</td>\n",
       "      <td>NICOBARS</td>\n",
       "      <td>Arecanut</td>\n",
       "      <td>2003-04</td>\n",
       "      <td>Whole Year</td>\n",
       "      <td>1261.0</td>\n",
       "      <td>Hectare</td>\n",
       "      <td>1525.0</td>\n",
       "      <td>Tonnes</td>\n",
       "      <td>1.209358</td>\n",
       "    </tr>\n",
       "    <tr>\n",
       "      <th>3</th>\n",
       "      <td>Andaman and Nicobar Islands</td>\n",
       "      <td>NORTH AND MIDDLE ANDAMAN</td>\n",
       "      <td>Arecanut</td>\n",
       "      <td>2001-02</td>\n",
       "      <td>Kharif</td>\n",
       "      <td>3100.0</td>\n",
       "      <td>Hectare</td>\n",
       "      <td>5239.0</td>\n",
       "      <td>Tonnes</td>\n",
       "      <td>1.690000</td>\n",
       "    </tr>\n",
       "    <tr>\n",
       "      <th>4</th>\n",
       "      <td>Andaman and Nicobar Islands</td>\n",
       "      <td>SOUTH ANDAMANS</td>\n",
       "      <td>Arecanut</td>\n",
       "      <td>2002-03</td>\n",
       "      <td>Whole Year</td>\n",
       "      <td>3105.0</td>\n",
       "      <td>Hectare</td>\n",
       "      <td>5267.0</td>\n",
       "      <td>Tonnes</td>\n",
       "      <td>1.696296</td>\n",
       "    </tr>\n",
       "    <tr>\n",
       "      <th>...</th>\n",
       "      <td>...</td>\n",
       "      <td>...</td>\n",
       "      <td>...</td>\n",
       "      <td>...</td>\n",
       "      <td>...</td>\n",
       "      <td>...</td>\n",
       "      <td>...</td>\n",
       "      <td>...</td>\n",
       "      <td>...</td>\n",
       "      <td>...</td>\n",
       "    </tr>\n",
       "    <tr>\n",
       "      <th>345402</th>\n",
       "      <td>Manipur</td>\n",
       "      <td>IMPHAL WEST</td>\n",
       "      <td>NaN</td>\n",
       "      <td>2019-20</td>\n",
       "      <td>Rabi</td>\n",
       "      <td>NaN</td>\n",
       "      <td>Hectare</td>\n",
       "      <td>NaN</td>\n",
       "      <td>Tonnes</td>\n",
       "      <td>NaN</td>\n",
       "    </tr>\n",
       "    <tr>\n",
       "      <th>345403</th>\n",
       "      <td>Manipur</td>\n",
       "      <td>SENAPATI</td>\n",
       "      <td>NaN</td>\n",
       "      <td>2019-20</td>\n",
       "      <td>Rabi</td>\n",
       "      <td>NaN</td>\n",
       "      <td>Hectare</td>\n",
       "      <td>NaN</td>\n",
       "      <td>Tonnes</td>\n",
       "      <td>NaN</td>\n",
       "    </tr>\n",
       "    <tr>\n",
       "      <th>345404</th>\n",
       "      <td>Manipur</td>\n",
       "      <td>TAMENGLONG</td>\n",
       "      <td>NaN</td>\n",
       "      <td>2019-20</td>\n",
       "      <td>Rabi</td>\n",
       "      <td>NaN</td>\n",
       "      <td>Hectare</td>\n",
       "      <td>NaN</td>\n",
       "      <td>Tonnes</td>\n",
       "      <td>NaN</td>\n",
       "    </tr>\n",
       "    <tr>\n",
       "      <th>345405</th>\n",
       "      <td>Manipur</td>\n",
       "      <td>THOUBAL</td>\n",
       "      <td>NaN</td>\n",
       "      <td>2019-20</td>\n",
       "      <td>Rabi</td>\n",
       "      <td>NaN</td>\n",
       "      <td>Hectare</td>\n",
       "      <td>NaN</td>\n",
       "      <td>Tonnes</td>\n",
       "      <td>NaN</td>\n",
       "    </tr>\n",
       "    <tr>\n",
       "      <th>345406</th>\n",
       "      <td>Manipur</td>\n",
       "      <td>UKHRUL</td>\n",
       "      <td>NaN</td>\n",
       "      <td>2019-20</td>\n",
       "      <td>Rabi</td>\n",
       "      <td>NaN</td>\n",
       "      <td>Hectare</td>\n",
       "      <td>NaN</td>\n",
       "      <td>Tonnes</td>\n",
       "      <td>NaN</td>\n",
       "    </tr>\n",
       "  </tbody>\n",
       "</table>\n",
       "<p>345407 rows × 10 columns</p>\n",
       "</div>"
      ],
      "text/plain": [
       "                              State                  District      Crop  \\\n",
       "0       Andaman and Nicobar Islands                  NICOBARS  Arecanut   \n",
       "1       Andaman and Nicobar Islands                  NICOBARS  Arecanut   \n",
       "2       Andaman and Nicobar Islands                  NICOBARS  Arecanut   \n",
       "3       Andaman and Nicobar Islands  NORTH AND MIDDLE ANDAMAN  Arecanut   \n",
       "4       Andaman and Nicobar Islands            SOUTH ANDAMANS  Arecanut   \n",
       "...                             ...                       ...       ...   \n",
       "345402                      Manipur               IMPHAL WEST       NaN   \n",
       "345403                      Manipur                  SENAPATI       NaN   \n",
       "345404                      Manipur                TAMENGLONG       NaN   \n",
       "345405                      Manipur                   THOUBAL       NaN   \n",
       "345406                      Manipur                    UKHRUL       NaN   \n",
       "\n",
       "           Year      Season    Area Area Units  Production Production Units  \\\n",
       "0       2001-02      Kharif  1254.0    Hectare      2061.0           Tonnes   \n",
       "1       2002-03  Whole Year  1258.0    Hectare      2083.0           Tonnes   \n",
       "2       2003-04  Whole Year  1261.0    Hectare      1525.0           Tonnes   \n",
       "3       2001-02      Kharif  3100.0    Hectare      5239.0           Tonnes   \n",
       "4       2002-03  Whole Year  3105.0    Hectare      5267.0           Tonnes   \n",
       "...         ...         ...     ...        ...         ...              ...   \n",
       "345402  2019-20        Rabi     NaN    Hectare         NaN           Tonnes   \n",
       "345403  2019-20        Rabi     NaN    Hectare         NaN           Tonnes   \n",
       "345404  2019-20        Rabi     NaN    Hectare         NaN           Tonnes   \n",
       "345405  2019-20        Rabi     NaN    Hectare         NaN           Tonnes   \n",
       "345406  2019-20        Rabi     NaN    Hectare         NaN           Tonnes   \n",
       "\n",
       "           Yield  \n",
       "0       1.643541  \n",
       "1       1.655803  \n",
       "2       1.209358  \n",
       "3       1.690000  \n",
       "4       1.696296  \n",
       "...          ...  \n",
       "345402       NaN  \n",
       "345403       NaN  \n",
       "345404       NaN  \n",
       "345405       NaN  \n",
       "345406       NaN  \n",
       "\n",
       "[345407 rows x 10 columns]"
      ]
     },
     "execution_count": 18,
     "metadata": {},
     "output_type": "execute_result"
    }
   ],
   "source": [
    "df"
   ]
  },
  {
   "cell_type": "code",
   "execution_count": 19,
   "id": "84a458fd",
   "metadata": {},
   "outputs": [],
   "source": [
    "#removing the null values from crop\n",
    "df.dropna(subset=['Crop'],inplace=True)"
   ]
  },
  {
   "cell_type": "code",
   "execution_count": 20,
   "id": "1b2cceac",
   "metadata": {},
   "outputs": [
    {
     "data": {
      "text/html": [
       "<div>\n",
       "<style scoped>\n",
       "    .dataframe tbody tr th:only-of-type {\n",
       "        vertical-align: middle;\n",
       "    }\n",
       "\n",
       "    .dataframe tbody tr th {\n",
       "        vertical-align: top;\n",
       "    }\n",
       "\n",
       "    .dataframe thead th {\n",
       "        text-align: right;\n",
       "    }\n",
       "</style>\n",
       "<table border=\"1\" class=\"dataframe\">\n",
       "  <thead>\n",
       "    <tr style=\"text-align: right;\">\n",
       "      <th></th>\n",
       "      <th>State</th>\n",
       "      <th>District</th>\n",
       "      <th>Crop</th>\n",
       "      <th>Year</th>\n",
       "      <th>Season</th>\n",
       "      <th>Area</th>\n",
       "      <th>Area Units</th>\n",
       "      <th>Production</th>\n",
       "      <th>Production Units</th>\n",
       "      <th>Yield</th>\n",
       "    </tr>\n",
       "  </thead>\n",
       "  <tbody>\n",
       "    <tr>\n",
       "      <th>0</th>\n",
       "      <td>Andaman and Nicobar Islands</td>\n",
       "      <td>NICOBARS</td>\n",
       "      <td>Arecanut</td>\n",
       "      <td>2001-02</td>\n",
       "      <td>Kharif</td>\n",
       "      <td>1254.0</td>\n",
       "      <td>Hectare</td>\n",
       "      <td>2061.0</td>\n",
       "      <td>Tonnes</td>\n",
       "      <td>1.643541</td>\n",
       "    </tr>\n",
       "    <tr>\n",
       "      <th>1</th>\n",
       "      <td>Andaman and Nicobar Islands</td>\n",
       "      <td>NICOBARS</td>\n",
       "      <td>Arecanut</td>\n",
       "      <td>2002-03</td>\n",
       "      <td>Whole Year</td>\n",
       "      <td>1258.0</td>\n",
       "      <td>Hectare</td>\n",
       "      <td>2083.0</td>\n",
       "      <td>Tonnes</td>\n",
       "      <td>1.655803</td>\n",
       "    </tr>\n",
       "    <tr>\n",
       "      <th>2</th>\n",
       "      <td>Andaman and Nicobar Islands</td>\n",
       "      <td>NICOBARS</td>\n",
       "      <td>Arecanut</td>\n",
       "      <td>2003-04</td>\n",
       "      <td>Whole Year</td>\n",
       "      <td>1261.0</td>\n",
       "      <td>Hectare</td>\n",
       "      <td>1525.0</td>\n",
       "      <td>Tonnes</td>\n",
       "      <td>1.209358</td>\n",
       "    </tr>\n",
       "    <tr>\n",
       "      <th>3</th>\n",
       "      <td>Andaman and Nicobar Islands</td>\n",
       "      <td>NORTH AND MIDDLE ANDAMAN</td>\n",
       "      <td>Arecanut</td>\n",
       "      <td>2001-02</td>\n",
       "      <td>Kharif</td>\n",
       "      <td>3100.0</td>\n",
       "      <td>Hectare</td>\n",
       "      <td>5239.0</td>\n",
       "      <td>Tonnes</td>\n",
       "      <td>1.690000</td>\n",
       "    </tr>\n",
       "    <tr>\n",
       "      <th>4</th>\n",
       "      <td>Andaman and Nicobar Islands</td>\n",
       "      <td>SOUTH ANDAMANS</td>\n",
       "      <td>Arecanut</td>\n",
       "      <td>2002-03</td>\n",
       "      <td>Whole Year</td>\n",
       "      <td>3105.0</td>\n",
       "      <td>Hectare</td>\n",
       "      <td>5267.0</td>\n",
       "      <td>Tonnes</td>\n",
       "      <td>1.696296</td>\n",
       "    </tr>\n",
       "    <tr>\n",
       "      <th>...</th>\n",
       "      <td>...</td>\n",
       "      <td>...</td>\n",
       "      <td>...</td>\n",
       "      <td>...</td>\n",
       "      <td>...</td>\n",
       "      <td>...</td>\n",
       "      <td>...</td>\n",
       "      <td>...</td>\n",
       "      <td>...</td>\n",
       "      <td>...</td>\n",
       "    </tr>\n",
       "    <tr>\n",
       "      <th>345370</th>\n",
       "      <td>West Bengal</td>\n",
       "      <td>PURBA BARDHAMAN</td>\n",
       "      <td>Wheat</td>\n",
       "      <td>2000-01</td>\n",
       "      <td>Rabi</td>\n",
       "      <td>6310.0</td>\n",
       "      <td>Hectare</td>\n",
       "      <td>15280.0</td>\n",
       "      <td>Tonnes</td>\n",
       "      <td>2.421553</td>\n",
       "    </tr>\n",
       "    <tr>\n",
       "      <th>345371</th>\n",
       "      <td>West Bengal</td>\n",
       "      <td>PURULIA</td>\n",
       "      <td>Wheat</td>\n",
       "      <td>1997-98</td>\n",
       "      <td>Rabi</td>\n",
       "      <td>1895.0</td>\n",
       "      <td>Hectare</td>\n",
       "      <td>2760.0</td>\n",
       "      <td>Tonnes</td>\n",
       "      <td>1.456464</td>\n",
       "    </tr>\n",
       "    <tr>\n",
       "      <th>345372</th>\n",
       "      <td>West Bengal</td>\n",
       "      <td>PURULIA</td>\n",
       "      <td>Wheat</td>\n",
       "      <td>1998-99</td>\n",
       "      <td>Rabi</td>\n",
       "      <td>3736.0</td>\n",
       "      <td>Hectare</td>\n",
       "      <td>5530.0</td>\n",
       "      <td>Tonnes</td>\n",
       "      <td>1.480193</td>\n",
       "    </tr>\n",
       "    <tr>\n",
       "      <th>345373</th>\n",
       "      <td>West Bengal</td>\n",
       "      <td>PURULIA</td>\n",
       "      <td>Wheat</td>\n",
       "      <td>1999-00</td>\n",
       "      <td>Rabi</td>\n",
       "      <td>2752.0</td>\n",
       "      <td>Hectare</td>\n",
       "      <td>6928.0</td>\n",
       "      <td>Tonnes</td>\n",
       "      <td>2.517442</td>\n",
       "    </tr>\n",
       "    <tr>\n",
       "      <th>345374</th>\n",
       "      <td>West Bengal</td>\n",
       "      <td>PURULIA</td>\n",
       "      <td>Wheat</td>\n",
       "      <td>2000-01</td>\n",
       "      <td>Rabi</td>\n",
       "      <td>2979.0</td>\n",
       "      <td>Hectare</td>\n",
       "      <td>7430.0</td>\n",
       "      <td>Tonnes</td>\n",
       "      <td>2.494126</td>\n",
       "    </tr>\n",
       "  </tbody>\n",
       "</table>\n",
       "<p>345375 rows × 10 columns</p>\n",
       "</div>"
      ],
      "text/plain": [
       "                              State                  District      Crop  \\\n",
       "0       Andaman and Nicobar Islands                  NICOBARS  Arecanut   \n",
       "1       Andaman and Nicobar Islands                  NICOBARS  Arecanut   \n",
       "2       Andaman and Nicobar Islands                  NICOBARS  Arecanut   \n",
       "3       Andaman and Nicobar Islands  NORTH AND MIDDLE ANDAMAN  Arecanut   \n",
       "4       Andaman and Nicobar Islands            SOUTH ANDAMANS  Arecanut   \n",
       "...                             ...                       ...       ...   \n",
       "345370                  West Bengal           PURBA BARDHAMAN     Wheat   \n",
       "345371                  West Bengal                   PURULIA     Wheat   \n",
       "345372                  West Bengal                   PURULIA     Wheat   \n",
       "345373                  West Bengal                   PURULIA     Wheat   \n",
       "345374                  West Bengal                   PURULIA     Wheat   \n",
       "\n",
       "           Year      Season    Area Area Units  Production Production Units  \\\n",
       "0       2001-02      Kharif  1254.0    Hectare      2061.0           Tonnes   \n",
       "1       2002-03  Whole Year  1258.0    Hectare      2083.0           Tonnes   \n",
       "2       2003-04  Whole Year  1261.0    Hectare      1525.0           Tonnes   \n",
       "3       2001-02      Kharif  3100.0    Hectare      5239.0           Tonnes   \n",
       "4       2002-03  Whole Year  3105.0    Hectare      5267.0           Tonnes   \n",
       "...         ...         ...     ...        ...         ...              ...   \n",
       "345370  2000-01        Rabi  6310.0    Hectare     15280.0           Tonnes   \n",
       "345371  1997-98        Rabi  1895.0    Hectare      2760.0           Tonnes   \n",
       "345372  1998-99        Rabi  3736.0    Hectare      5530.0           Tonnes   \n",
       "345373  1999-00        Rabi  2752.0    Hectare      6928.0           Tonnes   \n",
       "345374  2000-01        Rabi  2979.0    Hectare      7430.0           Tonnes   \n",
       "\n",
       "           Yield  \n",
       "0       1.643541  \n",
       "1       1.655803  \n",
       "2       1.209358  \n",
       "3       1.690000  \n",
       "4       1.696296  \n",
       "...          ...  \n",
       "345370  2.421553  \n",
       "345371  1.456464  \n",
       "345372  1.480193  \n",
       "345373  2.517442  \n",
       "345374  2.494126  \n",
       "\n",
       "[345375 rows x 10 columns]"
      ]
     },
     "execution_count": 20,
     "metadata": {},
     "output_type": "execute_result"
    }
   ],
   "source": [
    "df"
   ]
  },
  {
   "cell_type": "code",
   "execution_count": 21,
   "id": "e5a3a892",
   "metadata": {},
   "outputs": [
    {
     "data": {
      "text/plain": [
       "State                  0\n",
       "District               0\n",
       "Crop                   0\n",
       "Year                   0\n",
       "Season                 1\n",
       "Area                   1\n",
       "Area Units             0\n",
       "Production          4961\n",
       "Production Units       0\n",
       "Yield                  1\n",
       "dtype: int64"
      ]
     },
     "execution_count": 21,
     "metadata": {},
     "output_type": "execute_result"
    }
   ],
   "source": [
    "df.isnull().sum()\n"
   ]
  },
  {
   "cell_type": "code",
   "execution_count": 22,
   "id": "55d06aad",
   "metadata": {},
   "outputs": [
    {
     "data": {
      "text/plain": [
       "array(['Kharif', 'Whole Year', 'Rabi', 'Autumn', 'Summer', 'Winter', nan],\n",
       "      dtype=object)"
      ]
     },
     "execution_count": 22,
     "metadata": {},
     "output_type": "execute_result"
    }
   ],
   "source": [
    "df['Season'].unique()"
   ]
  },
  {
   "cell_type": "code",
   "execution_count": 23,
   "id": "37eea21b",
   "metadata": {},
   "outputs": [],
   "source": [
    "#removing null value from season\n",
    "df.dropna(subset=['Season'],inplace=True)"
   ]
  },
  {
   "cell_type": "code",
   "execution_count": 24,
   "id": "c8844bea",
   "metadata": {},
   "outputs": [
    {
     "data": {
      "text/plain": [
       "Season\n",
       "Autumn        [Rice, Maize, Ragi, Dry chillies, Sesamum, Gro...\n",
       "Kharif        [Arecanut, Other Kharif pulses, Rice, Arhar/Tu...\n",
       "Rabi          [Arhar/Tur, Bajra, Dry chillies, Gram, Groundn...\n",
       "Summer        [Rice, Maize, Moong(Green Gram), Bajra, Ground...\n",
       "Whole Year    [Arecanut, Banana, Black pepper, Cashewnut, Co...\n",
       "Winter        [Rice, Gram, Niger seed, Sugarcane, Wheat, Pot...\n",
       "Name: Crop, dtype: object"
      ]
     },
     "execution_count": 24,
     "metadata": {},
     "output_type": "execute_result"
    }
   ],
   "source": [
    "#grouping season based on crops\n",
    "df.groupby('Season')['Crop'].unique()"
   ]
  },
  {
   "cell_type": "code",
   "execution_count": 25,
   "id": "f4dacc36",
   "metadata": {},
   "outputs": [
    {
     "data": {
      "text/plain": [
       "['Tonnes', 'Nuts', 'Bales']"
      ]
     },
     "execution_count": 25,
     "metadata": {},
     "output_type": "execute_result"
    }
   ],
   "source": [
    "#length of production units\n",
    "list(df['Production Units'].unique())"
   ]
  },
  {
   "cell_type": "code",
   "execution_count": 26,
   "id": "f53afc66",
   "metadata": {},
   "outputs": [],
   "source": [
    "#droping null values from production\n",
    "df.dropna(subset=['Production'],inplace=True)"
   ]
  },
  {
   "cell_type": "code",
   "execution_count": 50,
   "id": "124478cd",
   "metadata": {},
   "outputs": [
    {
     "data": {
      "text/html": [
       "<div>\n",
       "<style scoped>\n",
       "    .dataframe tbody tr th:only-of-type {\n",
       "        vertical-align: middle;\n",
       "    }\n",
       "\n",
       "    .dataframe tbody tr th {\n",
       "        vertical-align: top;\n",
       "    }\n",
       "\n",
       "    .dataframe thead th {\n",
       "        text-align: right;\n",
       "    }\n",
       "</style>\n",
       "<table border=\"1\" class=\"dataframe\">\n",
       "  <thead>\n",
       "    <tr style=\"text-align: right;\">\n",
       "      <th></th>\n",
       "      <th>State</th>\n",
       "      <th>District</th>\n",
       "      <th>Crop</th>\n",
       "      <th>Year</th>\n",
       "      <th>Season</th>\n",
       "      <th>Area</th>\n",
       "      <th>Area Units</th>\n",
       "      <th>Production</th>\n",
       "      <th>Production Units</th>\n",
       "      <th>Yield</th>\n",
       "      <th>Average yield</th>\n",
       "      <th>Yield efficency</th>\n",
       "      <th>production_change</th>\n",
       "      <th>growth rate</th>\n",
       "    </tr>\n",
       "  </thead>\n",
       "  <tbody>\n",
       "    <tr>\n",
       "      <th>85043</th>\n",
       "      <td>Andaman and Nicobar Islands</td>\n",
       "      <td>Andaman and Nicobar Islands</td>\n",
       "      <td>Arecanut</td>\n",
       "      <td>2007</td>\n",
       "      <td>Kharif</td>\n",
       "      <td>2439.6</td>\n",
       "      <td>Hectare</td>\n",
       "      <td>3415.44</td>\n",
       "      <td>Tonnes</td>\n",
       "      <td>1.400000</td>\n",
       "      <td>2.416707</td>\n",
       "      <td>0.579301</td>\n",
       "      <td>NaN</td>\n",
       "      <td>NaN</td>\n",
       "    </tr>\n",
       "    <tr>\n",
       "      <th>85044</th>\n",
       "      <td>Andaman and Nicobar Islands</td>\n",
       "      <td>Andaman and Nicobar Islands</td>\n",
       "      <td>Arecanut</td>\n",
       "      <td>2007</td>\n",
       "      <td>Rabi</td>\n",
       "      <td>1626.4</td>\n",
       "      <td>Hectare</td>\n",
       "      <td>2276.96</td>\n",
       "      <td>Tonnes</td>\n",
       "      <td>1.400000</td>\n",
       "      <td>2.416707</td>\n",
       "      <td>0.579301</td>\n",
       "      <td>-1138.48</td>\n",
       "      <td>-0.333333</td>\n",
       "    </tr>\n",
       "    <tr>\n",
       "      <th>85045</th>\n",
       "      <td>Andaman and Nicobar Islands</td>\n",
       "      <td>Andaman and Nicobar Islands</td>\n",
       "      <td>Arecanut</td>\n",
       "      <td>2008</td>\n",
       "      <td>Autumn</td>\n",
       "      <td>4147.0</td>\n",
       "      <td>Hectare</td>\n",
       "      <td>3060.00</td>\n",
       "      <td>Tonnes</td>\n",
       "      <td>0.737883</td>\n",
       "      <td>2.416707</td>\n",
       "      <td>0.305326</td>\n",
       "      <td>783.04</td>\n",
       "      <td>0.343897</td>\n",
       "    </tr>\n",
       "    <tr>\n",
       "      <th>85046</th>\n",
       "      <td>Andaman and Nicobar Islands</td>\n",
       "      <td>Andaman and Nicobar Islands</td>\n",
       "      <td>Arecanut</td>\n",
       "      <td>2008</td>\n",
       "      <td>Summer</td>\n",
       "      <td>4147.0</td>\n",
       "      <td>Hectare</td>\n",
       "      <td>2660.00</td>\n",
       "      <td>Tonnes</td>\n",
       "      <td>0.641428</td>\n",
       "      <td>2.416707</td>\n",
       "      <td>0.265414</td>\n",
       "      <td>-400.00</td>\n",
       "      <td>-0.130719</td>\n",
       "    </tr>\n",
       "  </tbody>\n",
       "</table>\n",
       "</div>"
      ],
      "text/plain": [
       "                             State                     District      Crop  \\\n",
       "85043  Andaman and Nicobar Islands  Andaman and Nicobar Islands  Arecanut   \n",
       "85044  Andaman and Nicobar Islands  Andaman and Nicobar Islands  Arecanut   \n",
       "85045  Andaman and Nicobar Islands  Andaman and Nicobar Islands  Arecanut   \n",
       "85046  Andaman and Nicobar Islands  Andaman and Nicobar Islands  Arecanut   \n",
       "\n",
       "       Year  Season    Area Area Units  Production Production Units     Yield  \\\n",
       "85043  2007  Kharif  2439.6    Hectare     3415.44           Tonnes  1.400000   \n",
       "85044  2007    Rabi  1626.4    Hectare     2276.96           Tonnes  1.400000   \n",
       "85045  2008  Autumn  4147.0    Hectare     3060.00           Tonnes  0.737883   \n",
       "85046  2008  Summer  4147.0    Hectare     2660.00           Tonnes  0.641428   \n",
       "\n",
       "       Average yield  Yield efficency  production_change  growth rate  \n",
       "85043       2.416707         0.579301                NaN          NaN  \n",
       "85044       2.416707         0.579301           -1138.48    -0.333333  \n",
       "85045       2.416707         0.305326             783.04     0.343897  \n",
       "85046       2.416707         0.265414            -400.00    -0.130719  "
      ]
     },
     "execution_count": 50,
     "metadata": {},
     "output_type": "execute_result"
    }
   ],
   "source": [
    "df.head(4)"
   ]
  },
  {
   "cell_type": "code",
   "execution_count": 28,
   "id": "728ce74c",
   "metadata": {},
   "outputs": [
    {
     "data": {
      "text/plain": [
       "State               0\n",
       "District            0\n",
       "Crop                0\n",
       "Year                0\n",
       "Season              0\n",
       "Area                0\n",
       "Area Units          0\n",
       "Production          0\n",
       "Production Units    0\n",
       "Yield               0\n",
       "dtype: int64"
      ]
     },
     "execution_count": 28,
     "metadata": {},
     "output_type": "execute_result"
    }
   ],
   "source": [
    "df.isnull().sum()"
   ]
  },
  {
   "cell_type": "code",
   "execution_count": 29,
   "id": "6b8f9587",
   "metadata": {},
   "outputs": [
    {
     "data": {
      "text/plain": [
       "State                object\n",
       "District             object\n",
       "Crop                 object\n",
       "Year                 object\n",
       "Season               object\n",
       "Area                float64\n",
       "Area Units           object\n",
       "Production          float64\n",
       "Production Units     object\n",
       "Yield               float64\n",
       "dtype: object"
      ]
     },
     "execution_count": 29,
     "metadata": {},
     "output_type": "execute_result"
    }
   ],
   "source": [
    "df.dtypes"
   ]
  },
  {
   "cell_type": "code",
   "execution_count": 30,
   "id": "c98d5795",
   "metadata": {},
   "outputs": [
    {
     "data": {
      "text/html": [
       "<div>\n",
       "<style scoped>\n",
       "    .dataframe tbody tr th:only-of-type {\n",
       "        vertical-align: middle;\n",
       "    }\n",
       "\n",
       "    .dataframe tbody tr th {\n",
       "        vertical-align: top;\n",
       "    }\n",
       "\n",
       "    .dataframe thead th {\n",
       "        text-align: right;\n",
       "    }\n",
       "</style>\n",
       "<table border=\"1\" class=\"dataframe\">\n",
       "  <thead>\n",
       "    <tr style=\"text-align: right;\">\n",
       "      <th></th>\n",
       "      <th>State</th>\n",
       "      <th>District</th>\n",
       "      <th>Crop</th>\n",
       "      <th>Year</th>\n",
       "      <th>Season</th>\n",
       "      <th>Area Units</th>\n",
       "      <th>Production Units</th>\n",
       "    </tr>\n",
       "  </thead>\n",
       "  <tbody>\n",
       "    <tr>\n",
       "      <th>count</th>\n",
       "      <td>340414</td>\n",
       "      <td>340414</td>\n",
       "      <td>340414</td>\n",
       "      <td>340414</td>\n",
       "      <td>340414</td>\n",
       "      <td>340414</td>\n",
       "      <td>340414</td>\n",
       "    </tr>\n",
       "    <tr>\n",
       "      <th>unique</th>\n",
       "      <td>36</td>\n",
       "      <td>728</td>\n",
       "      <td>56</td>\n",
       "      <td>24</td>\n",
       "      <td>6</td>\n",
       "      <td>1</td>\n",
       "      <td>3</td>\n",
       "    </tr>\n",
       "    <tr>\n",
       "      <th>top</th>\n",
       "      <td>Uttar Pradesh</td>\n",
       "      <td>BILASPUR</td>\n",
       "      <td>Rice</td>\n",
       "      <td>2019-20</td>\n",
       "      <td>Kharif</td>\n",
       "      <td>Hectare</td>\n",
       "      <td>Tonnes</td>\n",
       "    </tr>\n",
       "    <tr>\n",
       "      <th>freq</th>\n",
       "      <td>44635</td>\n",
       "      <td>1214</td>\n",
       "      <td>21573</td>\n",
       "      <td>19000</td>\n",
       "      <td>136165</td>\n",
       "      <td>340414</td>\n",
       "      <td>326999</td>\n",
       "    </tr>\n",
       "  </tbody>\n",
       "</table>\n",
       "</div>"
      ],
      "text/plain": [
       "                State  District    Crop     Year  Season Area Units  \\\n",
       "count          340414    340414  340414   340414  340414     340414   \n",
       "unique             36       728      56       24       6          1   \n",
       "top     Uttar Pradesh  BILASPUR    Rice  2019-20  Kharif    Hectare   \n",
       "freq            44635      1214   21573    19000  136165     340414   \n",
       "\n",
       "       Production Units  \n",
       "count            340414  \n",
       "unique                3  \n",
       "top              Tonnes  \n",
       "freq             326999  "
      ]
     },
     "execution_count": 30,
     "metadata": {},
     "output_type": "execute_result"
    }
   ],
   "source": [
    "df.describe(include=object)"
   ]
  },
  {
   "cell_type": "code",
   "execution_count": 49,
   "id": "8bfc2f0a",
   "metadata": {
    "scrolled": true
   },
   "outputs": [],
   "source": [
    "#saving the modified dataset\n",
    "df.to_csv('Desktop/load_csv.csv')"
   ]
  },
  {
   "cell_type": "markdown",
   "id": "35803a9d",
   "metadata": {},
   "source": [
    "Here we have 3 production units converting bales and nuts to tonnes\n",
    "\n",
    "1000 kg = 1 tonne\n",
    "\n",
    "1 bales=200kg, 5 bales=1 tonne\n",
    "\n",
    "1 nut=1.5kg,670 nuts=1 tonne"
   ]
  },
  {
   "cell_type": "code",
   "execution_count": 31,
   "id": "e41b6c79",
   "metadata": {},
   "outputs": [],
   "source": [
    "#converting bales to tonne\n",
    "df.loc[df['Production Units'] == 'Bales', 'Production'] /=5"
   ]
  },
  {
   "cell_type": "code",
   "execution_count": 32,
   "id": "1f58104f",
   "metadata": {},
   "outputs": [],
   "source": [
    "#converting bales to tones in production column\n",
    "df.loc[df['Production Units'] == 'Bales', 'Production Units'] ='Tonnes'"
   ]
  },
  {
   "cell_type": "code",
   "execution_count": 33,
   "id": "a8421ac0",
   "metadata": {},
   "outputs": [],
   "source": [
    "#conveting nuts to tonne\n",
    "df.loc[df['Production Units'] == 'Nuts', 'Production'] /=670"
   ]
  },
  {
   "cell_type": "code",
   "execution_count": 34,
   "id": "26dc3e59",
   "metadata": {},
   "outputs": [],
   "source": [
    "#converting nuts to tones in production column\n",
    "df.loc[df['Production Units'] == 'Nuts', 'Production Units'] ='Tonnes'"
   ]
  },
  {
   "cell_type": "code",
   "execution_count": 35,
   "id": "f9cd3203",
   "metadata": {},
   "outputs": [
    {
     "data": {
      "text/html": [
       "<div>\n",
       "<style scoped>\n",
       "    .dataframe tbody tr th:only-of-type {\n",
       "        vertical-align: middle;\n",
       "    }\n",
       "\n",
       "    .dataframe tbody tr th {\n",
       "        vertical-align: top;\n",
       "    }\n",
       "\n",
       "    .dataframe thead th {\n",
       "        text-align: right;\n",
       "    }\n",
       "</style>\n",
       "<table border=\"1\" class=\"dataframe\">\n",
       "  <thead>\n",
       "    <tr style=\"text-align: right;\">\n",
       "      <th></th>\n",
       "      <th>count</th>\n",
       "      <th>unique</th>\n",
       "      <th>top</th>\n",
       "      <th>freq</th>\n",
       "    </tr>\n",
       "    <tr>\n",
       "      <th>Crop</th>\n",
       "      <th></th>\n",
       "      <th></th>\n",
       "      <th></th>\n",
       "      <th></th>\n",
       "    </tr>\n",
       "  </thead>\n",
       "  <tbody>\n",
       "    <tr>\n",
       "      <th>Arecanut</th>\n",
       "      <td>2150</td>\n",
       "      <td>10</td>\n",
       "      <td>Assam</td>\n",
       "      <td>568</td>\n",
       "    </tr>\n",
       "    <tr>\n",
       "      <th>Arhar/Tur</th>\n",
       "      <td>10774</td>\n",
       "      <td>31</td>\n",
       "      <td>Uttar Pradesh</td>\n",
       "      <td>1445</td>\n",
       "    </tr>\n",
       "    <tr>\n",
       "      <th>Bajra</th>\n",
       "      <td>7740</td>\n",
       "      <td>23</td>\n",
       "      <td>Uttar Pradesh</td>\n",
       "      <td>1492</td>\n",
       "    </tr>\n",
       "    <tr>\n",
       "      <th>Banana</th>\n",
       "      <td>4393</td>\n",
       "      <td>20</td>\n",
       "      <td>Tamil Nadu</td>\n",
       "      <td>566</td>\n",
       "    </tr>\n",
       "    <tr>\n",
       "      <th>Barley</th>\n",
       "      <td>5808</td>\n",
       "      <td>15</td>\n",
       "      <td>Uttar Pradesh</td>\n",
       "      <td>1675</td>\n",
       "    </tr>\n",
       "  </tbody>\n",
       "</table>\n",
       "</div>"
      ],
      "text/plain": [
       "           count unique            top  freq\n",
       "Crop                                        \n",
       "Arecanut    2150     10          Assam   568\n",
       "Arhar/Tur  10774     31  Uttar Pradesh  1445\n",
       "Bajra       7740     23  Uttar Pradesh  1492\n",
       "Banana      4393     20     Tamil Nadu   566\n",
       "Barley      5808     15  Uttar Pradesh  1675"
      ]
     },
     "execution_count": 35,
     "metadata": {},
     "output_type": "execute_result"
    }
   ],
   "source": [
    "#grouping state based on crop\n",
    "df.groupby('Crop')['State'].describe().head(5)"
   ]
  },
  {
   "cell_type": "code",
   "execution_count": 36,
   "id": "0097682f",
   "metadata": {},
   "outputs": [],
   "source": [
    "#grouping crop based on yield\n",
    "avg_yield=df.groupby('Crop')['Yield'].mean()"
   ]
  },
  {
   "cell_type": "code",
   "execution_count": 37,
   "id": "1ea8cd0f",
   "metadata": {},
   "outputs": [],
   "source": [
    "df['Average yield']=df['Crop'].map(avg_yield)"
   ]
  },
  {
   "cell_type": "code",
   "execution_count": 38,
   "id": "4968f2fc",
   "metadata": {},
   "outputs": [],
   "source": [
    "#creating new column average yield\n",
    "df[\"Yield efficency\"]=df['Yield']/df['Average yield']"
   ]
  },
  {
   "cell_type": "code",
   "execution_count": 39,
   "id": "d789f234",
   "metadata": {},
   "outputs": [],
   "source": [
    "#changing the year column by applying the function\n",
    "df['Year']=df['Year'].apply(lambda x:int(x.split('-')[0]))"
   ]
  },
  {
   "cell_type": "code",
   "execution_count": 51,
   "id": "adc9fd8f",
   "metadata": {
    "scrolled": true
   },
   "outputs": [
    {
     "data": {
      "text/html": [
       "<div>\n",
       "<style scoped>\n",
       "    .dataframe tbody tr th:only-of-type {\n",
       "        vertical-align: middle;\n",
       "    }\n",
       "\n",
       "    .dataframe tbody tr th {\n",
       "        vertical-align: top;\n",
       "    }\n",
       "\n",
       "    .dataframe thead th {\n",
       "        text-align: right;\n",
       "    }\n",
       "</style>\n",
       "<table border=\"1\" class=\"dataframe\">\n",
       "  <thead>\n",
       "    <tr style=\"text-align: right;\">\n",
       "      <th></th>\n",
       "      <th>State</th>\n",
       "      <th>District</th>\n",
       "      <th>Crop</th>\n",
       "      <th>Year</th>\n",
       "      <th>Season</th>\n",
       "      <th>Area</th>\n",
       "      <th>Area Units</th>\n",
       "      <th>Production</th>\n",
       "      <th>Production Units</th>\n",
       "      <th>Yield</th>\n",
       "      <th>Average yield</th>\n",
       "      <th>Yield efficency</th>\n",
       "      <th>production_change</th>\n",
       "      <th>growth rate</th>\n",
       "    </tr>\n",
       "  </thead>\n",
       "  <tbody>\n",
       "    <tr>\n",
       "      <th>85043</th>\n",
       "      <td>Andaman and Nicobar Islands</td>\n",
       "      <td>Andaman and Nicobar Islands</td>\n",
       "      <td>Arecanut</td>\n",
       "      <td>2007</td>\n",
       "      <td>Kharif</td>\n",
       "      <td>2439.6</td>\n",
       "      <td>Hectare</td>\n",
       "      <td>3415.44</td>\n",
       "      <td>Tonnes</td>\n",
       "      <td>1.400000</td>\n",
       "      <td>2.416707</td>\n",
       "      <td>0.579301</td>\n",
       "      <td>NaN</td>\n",
       "      <td>NaN</td>\n",
       "    </tr>\n",
       "    <tr>\n",
       "      <th>85044</th>\n",
       "      <td>Andaman and Nicobar Islands</td>\n",
       "      <td>Andaman and Nicobar Islands</td>\n",
       "      <td>Arecanut</td>\n",
       "      <td>2007</td>\n",
       "      <td>Rabi</td>\n",
       "      <td>1626.4</td>\n",
       "      <td>Hectare</td>\n",
       "      <td>2276.96</td>\n",
       "      <td>Tonnes</td>\n",
       "      <td>1.400000</td>\n",
       "      <td>2.416707</td>\n",
       "      <td>0.579301</td>\n",
       "      <td>-1138.48</td>\n",
       "      <td>-0.333333</td>\n",
       "    </tr>\n",
       "    <tr>\n",
       "      <th>85045</th>\n",
       "      <td>Andaman and Nicobar Islands</td>\n",
       "      <td>Andaman and Nicobar Islands</td>\n",
       "      <td>Arecanut</td>\n",
       "      <td>2008</td>\n",
       "      <td>Autumn</td>\n",
       "      <td>4147.0</td>\n",
       "      <td>Hectare</td>\n",
       "      <td>3060.00</td>\n",
       "      <td>Tonnes</td>\n",
       "      <td>0.737883</td>\n",
       "      <td>2.416707</td>\n",
       "      <td>0.305326</td>\n",
       "      <td>783.04</td>\n",
       "      <td>0.343897</td>\n",
       "    </tr>\n",
       "  </tbody>\n",
       "</table>\n",
       "</div>"
      ],
      "text/plain": [
       "                             State                     District      Crop  \\\n",
       "85043  Andaman and Nicobar Islands  Andaman and Nicobar Islands  Arecanut   \n",
       "85044  Andaman and Nicobar Islands  Andaman and Nicobar Islands  Arecanut   \n",
       "85045  Andaman and Nicobar Islands  Andaman and Nicobar Islands  Arecanut   \n",
       "\n",
       "       Year  Season    Area Area Units  Production Production Units     Yield  \\\n",
       "85043  2007  Kharif  2439.6    Hectare     3415.44           Tonnes  1.400000   \n",
       "85044  2007    Rabi  1626.4    Hectare     2276.96           Tonnes  1.400000   \n",
       "85045  2008  Autumn  4147.0    Hectare     3060.00           Tonnes  0.737883   \n",
       "\n",
       "       Average yield  Yield efficency  production_change  growth rate  \n",
       "85043       2.416707         0.579301                NaN          NaN  \n",
       "85044       2.416707         0.579301           -1138.48    -0.333333  \n",
       "85045       2.416707         0.305326             783.04     0.343897  "
      ]
     },
     "execution_count": 51,
     "metadata": {},
     "output_type": "execute_result"
    }
   ],
   "source": [
    "df.head(3)"
   ]
  },
  {
   "cell_type": "code",
   "execution_count": 41,
   "id": "8ee90d4d",
   "metadata": {},
   "outputs": [],
   "source": [
    "df.sort_values(by=['State','District','Crop','Year'],inplace=True)"
   ]
  },
  {
   "cell_type": "code",
   "execution_count": 42,
   "id": "467bef56",
   "metadata": {},
   "outputs": [],
   "source": [
    "#creating new column production_change column\n",
    "df['production_change']=df.groupby(['State','District','Crop'])['Production'].diff()"
   ]
  },
  {
   "cell_type": "code",
   "execution_count": 43,
   "id": "fee2485c",
   "metadata": {},
   "outputs": [],
   "source": [
    "#creating new column growth_rate\n",
    "df['growth rate']=df['production_change']/df['Production'].shift(1)"
   ]
  },
  {
   "cell_type": "markdown",
   "id": "3aec8fa6",
   "metadata": {},
   "source": [
    "# What are the top 5 crops in terms of area cultivated?"
   ]
  },
  {
   "cell_type": "code",
   "execution_count": 45,
   "id": "76136a8d",
   "metadata": {
    "scrolled": true
   },
   "outputs": [
    {
     "name": "stdout",
     "output_type": "stream",
     "text": [
      "Top 5 crops by area cultivated: Crop\n",
      "Rice            9.950024e+08\n",
      "Wheat           6.644919e+08\n",
      "Cotton(lint)    2.322117e+08\n",
      "Soyabean        2.044099e+08\n",
      "Bajra           1.989216e+08\n",
      "Name: Area, dtype: float64\n"
     ]
    }
   ],
   "source": [
    "top_crops_area = df.groupby('Crop')['Area'].sum().nlargest(5)\n",
    "print(\"Top 5 crops by area cultivated:\", top_crops_area)"
   ]
  },
  {
   "cell_type": "markdown",
   "id": "491df429",
   "metadata": {},
   "source": [
    "# Which season has the highest total production of crops?"
   ]
  },
  {
   "cell_type": "code",
   "execution_count": 46,
   "id": "3cc818a8",
   "metadata": {},
   "outputs": [
    {
     "name": "stdout",
     "output_type": "stream",
     "text": [
      "Season with highest production: Whole Year\n"
     ]
    }
   ],
   "source": [
    "season_production = df.groupby('Season')['Production'].sum().idxmax()\n",
    "print(\"Season with highest production:\", season_production)"
   ]
  },
  {
   "cell_type": "markdown",
   "id": "6e3d1e68",
   "metadata": {},
   "source": [
    "# Which crop has the highest variability in production?"
   ]
  },
  {
   "cell_type": "code",
   "execution_count": 47,
   "id": "b9833601",
   "metadata": {},
   "outputs": [
    {
     "name": "stdout",
     "output_type": "stream",
     "text": [
      "Crop with highest variability in production: Sugarcane\n"
     ]
    }
   ],
   "source": [
    "highest_variability_crop = df.groupby('Crop')['Production'].std().idxmax()\n",
    "print(\"Crop with highest variability in production:\", highest_variability_crop)"
   ]
  },
  {
   "cell_type": "markdown",
   "id": "0d8dd7dd",
   "metadata": {},
   "source": [
    "# Which district has the highest overall production across all crops?"
   ]
  },
  {
   "cell_type": "code",
   "execution_count": 48,
   "id": "196b8e6c",
   "metadata": {},
   "outputs": [
    {
     "name": "stdout",
     "output_type": "stream",
     "text": [
      "District with highest overall production: KHERI\n"
     ]
    }
   ],
   "source": [
    "district_max_production = df.groupby('District')['Production'].sum().idxmax()\n",
    "print(\"District with highest overall production:\", district_max_production)"
   ]
  },
  {
   "cell_type": "code",
   "execution_count": null,
   "id": "6179b558",
   "metadata": {},
   "outputs": [],
   "source": []
  },
  {
   "cell_type": "code",
   "execution_count": null,
   "id": "67c4ec57",
   "metadata": {},
   "outputs": [],
   "source": []
  }
 ],
 "metadata": {
  "kernelspec": {
   "display_name": "Python 3 (ipykernel)",
   "language": "python",
   "name": "python3"
  },
  "language_info": {
   "codemirror_mode": {
    "name": "ipython",
    "version": 3
   },
   "file_extension": ".py",
   "mimetype": "text/x-python",
   "name": "python",
   "nbconvert_exporter": "python",
   "pygments_lexer": "ipython3",
   "version": "3.12.3"
  }
 },
 "nbformat": 4,
 "nbformat_minor": 5
}
